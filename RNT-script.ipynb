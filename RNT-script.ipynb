{
 "cells": [
  {
   "cell_type": "code",
   "execution_count": 120,
   "metadata": {},
   "outputs": [],
   "source": [
    "# conda install -c conda-forge tabula-py\n",
    "import tabula\n",
    "import pandas as pd\n",
    "\n",
    "# Read PDF into list of DataFrame\n",
    "dataframe = tabula.read_pdf(\"RNT_202010.pdf\", pages='all', multiple_tables=True)"
   ]
  },
  {
   "cell_type": "code",
   "execution_count": 143,
   "metadata": {},
   "outputs": [
    {
     "name": "stdout",
     "output_type": "stream",
     "text": [
      "0                      010025591104\n",
      "1                       1018590945E\n",
      "2                             NULAS\n",
      "3                        01-09-2020\n",
      "4                        30-09-2020\n",
      "5                              30 D\n",
      "6                             140 H\n",
      "7                               NaN\n",
      "8     BASE DE CONTINGENCIAS COMUNES\n",
      "9                       2,068,50\\r1\n",
      "10                              NaN\n",
      "Name: 6, dtype: object\n",
      "\n",
      "0                               NaN\n",
      "1                               NaN\n",
      "2                               NaN\n",
      "3                               NaN\n",
      "4                               NaN\n",
      "5                               NaN\n",
      "6     BASE DE ACCIDENTES DE TRABAJO\n",
      "7                       2,068,50\\r2\n",
      "8                               NaN\n",
      "9                               NaN\n",
      "10                              NaN\n",
      "Name: 7, dtype: object\n",
      "\n",
      "cot 2068.5\n"
     ]
    }
   ],
   "source": [
    "# example with data on first page\n",
    "pag1=dataframe[3] \n",
    "print(pag1.iloc[6,:]) # contingencias comunes \n",
    "print(\"\")\n",
    "print(pag1.iloc[7,:]) # accidentes\n",
    "ex=pag1.iloc[6,9]\n",
    "ex = ex.replace(\"\\r1\",\"\").replace(\",\",\"\")\n",
    "print(\"\")\n",
    "cot=float(ex)/100\n",
    "print(\"cot\",cot)"
   ]
  }
 ],
 "metadata": {
  "kernelspec": {
   "display_name": "Python 3",
   "language": "python",
   "name": "python3"
  },
  "language_info": {
   "codemirror_mode": {
    "name": "ipython",
    "version": 3
   },
   "file_extension": ".py",
   "mimetype": "text/x-python",
   "name": "python",
   "nbconvert_exporter": "python",
   "pygments_lexer": "ipython3",
   "version": "3.8.5"
  }
 },
 "nbformat": 4,
 "nbformat_minor": 4
}
